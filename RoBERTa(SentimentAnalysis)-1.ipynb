{
  "nbformat": 4,
  "nbformat_minor": 0,
  "metadata": {
    "accelerator": "GPU",
    "colab": {
      "name": "RoBERTa(SentimentAnalysis3).ipynb",
      "provenance": [],
      "collapsed_sections": []
    },
    "kernelspec": {
      "display_name": "Python 3",
      "name": "python3"
    },
    "language_info": {
      "name": "python"
    }
  },
  "cells": [
    {
      "cell_type": "code",
      "metadata": {
        "id": "-qOxQ_XvLTLY"
      },
      "source": [
        "import numpy as np  \n",
        "import pandas as pd\n",
        "import tensorflow as tf\n",
        "import seaborn as sns\n",
        "import matplotlib.pyplot as plt"
      ],
      "execution_count": 1,
      "outputs": []
    },
    {
      "cell_type": "code",
      "metadata": {
        "colab": {
          "base_uri": "https://localhost:8080/"
        },
        "id": "R1KmuJPkIq0v",
        "outputId": "4648c419-45b3-4342-c78b-f29786f6fcb1"
      },
      "source": [
        "from google.colab import drive\n",
        "drive.mount('/content/drive')"
      ],
      "execution_count": 2,
      "outputs": [
        {
          "output_type": "stream",
          "name": "stdout",
          "text": [
            "Drive already mounted at /content/drive; to attempt to forcibly remount, call drive.mount(\"/content/drive\", force_remount=True).\n"
          ]
        }
      ]
    },
    {
      "cell_type": "code",
      "metadata": {
        "id": "jyk8sz5WLaMG"
      },
      "source": [
        "DATASET_COLUMNS=['target','ids','date','flag','user','text']\n",
        "DATASET_ENCODING = \"ISO-8859-1\"\n",
        "dataset=pd.read_csv(\"/content/drive/MyDrive/DATASET/SentimentAnalysis.csv\",encoding=DATASET_ENCODING,names=DATASET_COLUMNS)"
      ],
      "execution_count": 3,
      "outputs": []
    },
    {
      "cell_type": "code",
      "metadata": {
        "colab": {
          "base_uri": "https://localhost:8080/",
          "height": 292
        },
        "id": "IlUzEQ4KzZwC",
        "outputId": "7d1c1d18-fd02-4c98-f47c-ceee467be8a9"
      },
      "source": [
        "dataset.head()"
      ],
      "execution_count": 4,
      "outputs": [
        {
          "output_type": "execute_result",
          "data": {
            "text/html": [
              "<div>\n",
              "<style scoped>\n",
              "    .dataframe tbody tr th:only-of-type {\n",
              "        vertical-align: middle;\n",
              "    }\n",
              "\n",
              "    .dataframe tbody tr th {\n",
              "        vertical-align: top;\n",
              "    }\n",
              "\n",
              "    .dataframe thead th {\n",
              "        text-align: right;\n",
              "    }\n",
              "</style>\n",
              "<table border=\"1\" class=\"dataframe\">\n",
              "  <thead>\n",
              "    <tr style=\"text-align: right;\">\n",
              "      <th></th>\n",
              "      <th>target</th>\n",
              "      <th>ids</th>\n",
              "      <th>date</th>\n",
              "      <th>flag</th>\n",
              "      <th>user</th>\n",
              "      <th>text</th>\n",
              "    </tr>\n",
              "  </thead>\n",
              "  <tbody>\n",
              "    <tr>\n",
              "      <th>0</th>\n",
              "      <td>0</td>\n",
              "      <td>1467810369</td>\n",
              "      <td>Mon Apr 06 22:19:45 PDT 2009</td>\n",
              "      <td>NO_QUERY</td>\n",
              "      <td>_TheSpecialOne_</td>\n",
              "      <td>@switchfoot http://twitpic.com/2y1zl - Awww, t...</td>\n",
              "    </tr>\n",
              "    <tr>\n",
              "      <th>1</th>\n",
              "      <td>0</td>\n",
              "      <td>1467810672</td>\n",
              "      <td>Mon Apr 06 22:19:49 PDT 2009</td>\n",
              "      <td>NO_QUERY</td>\n",
              "      <td>scotthamilton</td>\n",
              "      <td>is upset that he can't update his Facebook by ...</td>\n",
              "    </tr>\n",
              "    <tr>\n",
              "      <th>2</th>\n",
              "      <td>0</td>\n",
              "      <td>1467810917</td>\n",
              "      <td>Mon Apr 06 22:19:53 PDT 2009</td>\n",
              "      <td>NO_QUERY</td>\n",
              "      <td>mattycus</td>\n",
              "      <td>@Kenichan I dived many times for the ball. Man...</td>\n",
              "    </tr>\n",
              "    <tr>\n",
              "      <th>3</th>\n",
              "      <td>0</td>\n",
              "      <td>1467811184</td>\n",
              "      <td>Mon Apr 06 22:19:57 PDT 2009</td>\n",
              "      <td>NO_QUERY</td>\n",
              "      <td>ElleCTF</td>\n",
              "      <td>my whole body feels itchy and like its on fire</td>\n",
              "    </tr>\n",
              "    <tr>\n",
              "      <th>4</th>\n",
              "      <td>0</td>\n",
              "      <td>1467811193</td>\n",
              "      <td>Mon Apr 06 22:19:57 PDT 2009</td>\n",
              "      <td>NO_QUERY</td>\n",
              "      <td>Karoli</td>\n",
              "      <td>@nationwideclass no, it's not behaving at all....</td>\n",
              "    </tr>\n",
              "  </tbody>\n",
              "</table>\n",
              "</div>"
            ],
            "text/plain": [
              "   target  ...                                               text\n",
              "0       0  ...  @switchfoot http://twitpic.com/2y1zl - Awww, t...\n",
              "1       0  ...  is upset that he can't update his Facebook by ...\n",
              "2       0  ...  @Kenichan I dived many times for the ball. Man...\n",
              "3       0  ...    my whole body feels itchy and like its on fire \n",
              "4       0  ...  @nationwideclass no, it's not behaving at all....\n",
              "\n",
              "[5 rows x 6 columns]"
            ]
          },
          "metadata": {},
          "execution_count": 4
        }
      ]
    },
    {
      "cell_type": "code",
      "metadata": {
        "colab": {
          "base_uri": "https://localhost:8080/"
        },
        "id": "zwsdKhsuL0HX",
        "outputId": "b53d9b62-5b97-49e6-eefe-4ae743f18fc2"
      },
      "source": [
        "dataset.shape"
      ],
      "execution_count": 5,
      "outputs": [
        {
          "output_type": "execute_result",
          "data": {
            "text/plain": [
              "(1600000, 6)"
            ]
          },
          "metadata": {},
          "execution_count": 5
        }
      ]
    },
    {
      "cell_type": "code",
      "metadata": {
        "colab": {
          "base_uri": "https://localhost:8080/"
        },
        "id": "R4vslrerL000",
        "outputId": "fb1f4bf3-c5a6-4a0b-9fd6-ea5cf8c4be65"
      },
      "source": [
        "dataset.info()"
      ],
      "execution_count": 6,
      "outputs": [
        {
          "output_type": "stream",
          "name": "stdout",
          "text": [
            "<class 'pandas.core.frame.DataFrame'>\n",
            "RangeIndex: 1600000 entries, 0 to 1599999\n",
            "Data columns (total 6 columns):\n",
            " #   Column  Non-Null Count    Dtype \n",
            "---  ------  --------------    ----- \n",
            " 0   target  1600000 non-null  int64 \n",
            " 1   ids     1600000 non-null  int64 \n",
            " 2   date    1600000 non-null  object\n",
            " 3   flag    1600000 non-null  object\n",
            " 4   user    1600000 non-null  object\n",
            " 5   text    1600000 non-null  object\n",
            "dtypes: int64(2), object(4)\n",
            "memory usage: 73.2+ MB\n"
          ]
        }
      ]
    },
    {
      "cell_type": "code",
      "metadata": {
        "colab": {
          "base_uri": "https://localhost:8080/"
        },
        "id": "x_MLoTTCL2Wc",
        "outputId": "04d505b5-561d-4259-d1c2-115151f24c60"
      },
      "source": [
        "dataset.isnull().sum()"
      ],
      "execution_count": 7,
      "outputs": [
        {
          "output_type": "execute_result",
          "data": {
            "text/plain": [
              "target    0\n",
              "ids       0\n",
              "date      0\n",
              "flag      0\n",
              "user      0\n",
              "text      0\n",
              "dtype: int64"
            ]
          },
          "metadata": {},
          "execution_count": 7
        }
      ]
    },
    {
      "cell_type": "code",
      "metadata": {
        "colab": {
          "base_uri": "https://localhost:8080/"
        },
        "id": "SR3-1KVXz5QQ",
        "outputId": "78c0d4fd-4f7c-40b4-e7f7-4fa089758c9c"
      },
      "source": [
        "dataset.count('target'==1)"
      ],
      "execution_count": 8,
      "outputs": [
        {
          "output_type": "execute_result",
          "data": {
            "text/plain": [
              "target    1600000\n",
              "ids       1600000\n",
              "date      1600000\n",
              "flag      1600000\n",
              "user      1600000\n",
              "text      1600000\n",
              "dtype: int64"
            ]
          },
          "metadata": {},
          "execution_count": 8
        }
      ]
    },
    {
      "cell_type": "code",
      "metadata": {
        "id": "DQKBy6zgL3uN"
      },
      "source": [
        "data=dataset[['text','target']]"
      ],
      "execution_count": 9,
      "outputs": []
    },
    {
      "cell_type": "code",
      "metadata": {
        "colab": {
          "base_uri": "https://localhost:8080/"
        },
        "id": "nUP6rZ8uL5ot",
        "outputId": "2fc1592b-02f7-4625-d85c-21fad1ff6913"
      },
      "source": [
        "data['target'] = data['target'].replace(4,1)"
      ],
      "execution_count": 10,
      "outputs": [
        {
          "output_type": "stream",
          "name": "stderr",
          "text": [
            "/usr/local/lib/python3.7/dist-packages/ipykernel_launcher.py:1: SettingWithCopyWarning: \n",
            "A value is trying to be set on a copy of a slice from a DataFrame.\n",
            "Try using .loc[row_indexer,col_indexer] = value instead\n",
            "\n",
            "See the caveats in the documentation: https://pandas.pydata.org/pandas-docs/stable/user_guide/indexing.html#returning-a-view-versus-a-copy\n",
            "  \"\"\"Entry point for launching an IPython kernel.\n"
          ]
        }
      ]
    },
    {
      "cell_type": "code",
      "metadata": {
        "colab": {
          "base_uri": "https://localhost:8080/"
        },
        "id": "xBDWQbgtL7D-",
        "outputId": "24522933-76aa-487e-8f24-ccd3848dfe5b"
      },
      "source": [
        "data['target'].unique()"
      ],
      "execution_count": 11,
      "outputs": [
        {
          "output_type": "execute_result",
          "data": {
            "text/plain": [
              "array([0, 1])"
            ]
          },
          "metadata": {},
          "execution_count": 11
        }
      ]
    },
    {
      "cell_type": "code",
      "metadata": {
        "id": "bRnbJXNGL8sF"
      },
      "source": [
        "grps = data.groupby(data['target'])"
      ],
      "execution_count": 12,
      "outputs": []
    },
    {
      "cell_type": "code",
      "metadata": {
        "id": "Iu6GZG9RL_LF"
      },
      "source": [
        "dfs=[]\n",
        "for name,grp in grps:\n",
        "  dfs.append(grp.sample(n=25000))\n"
      ],
      "execution_count": 13,
      "outputs": []
    },
    {
      "cell_type": "code",
      "metadata": {
        "id": "m5av-rz7Mag4"
      },
      "source": [
        "final_df = pd.concat(dfs)"
      ],
      "execution_count": 14,
      "outputs": []
    },
    {
      "cell_type": "code",
      "metadata": {
        "id": "HnULbIcON-Xk"
      },
      "source": [
        "final_df = final_df.sample(frac=1)"
      ],
      "execution_count": 15,
      "outputs": []
    },
    {
      "cell_type": "code",
      "metadata": {
        "id": "U1ysAmcPN_5A"
      },
      "source": [
        "X = list(final_df['text'])"
      ],
      "execution_count": 16,
      "outputs": []
    },
    {
      "cell_type": "code",
      "metadata": {
        "id": "50AGlXPfOLC9"
      },
      "source": [
        "Y = list(final_df['target'])\n",
        "from sklearn.model_selection import train_test_split\n",
        "x_train,x_test, y_train, y_test = train_test_split(X, Y, test_size = 0.2\n",
        "                                                    , random_state = 0)"
      ],
      "execution_count": 17,
      "outputs": []
    },
    {
      "cell_type": "code",
      "metadata": {
        "id": "mP8NTZnAONIq"
      },
      "source": [
        "train_text = x_train\n",
        "train_labels = y_train"
      ],
      "execution_count": 18,
      "outputs": []
    },
    {
      "cell_type": "code",
      "metadata": {
        "id": "J6WHQ4Z7OQso"
      },
      "source": [
        "\n",
        "val_text, test_text, val_labels, test_labels = train_test_split(x_test,y_test,test_size=0.5)"
      ],
      "execution_count": 19,
      "outputs": []
    },
    {
      "cell_type": "code",
      "metadata": {
        "colab": {
          "base_uri": "https://localhost:8080/"
        },
        "id": "ZqQ5_tuCOSiZ",
        "outputId": "d3f74d42-a15a-4a98-9293-fca92863f989"
      },
      "source": [
        "print(len(train_text),len(val_text),len(test_text))"
      ],
      "execution_count": 20,
      "outputs": [
        {
          "output_type": "stream",
          "name": "stdout",
          "text": [
            "40000 5000 5000\n"
          ]
        }
      ]
    },
    {
      "cell_type": "code",
      "metadata": {
        "colab": {
          "base_uri": "https://localhost:8080/"
        },
        "id": "zBEUBd73OT0S",
        "outputId": "3fb01e61-d340-4b65-f2b9-555f5913be15"
      },
      "source": [
        "!pip install transformers"
      ],
      "execution_count": 21,
      "outputs": [
        {
          "output_type": "stream",
          "name": "stdout",
          "text": [
            "Requirement already satisfied: transformers in /usr/local/lib/python3.7/dist-packages (4.12.3)\n",
            "Requirement already satisfied: numpy>=1.17 in /usr/local/lib/python3.7/dist-packages (from transformers) (1.19.5)\n",
            "Requirement already satisfied: pyyaml>=5.1 in /usr/local/lib/python3.7/dist-packages (from transformers) (6.0)\n",
            "Requirement already satisfied: requests in /usr/local/lib/python3.7/dist-packages (from transformers) (2.23.0)\n",
            "Requirement already satisfied: regex!=2019.12.17 in /usr/local/lib/python3.7/dist-packages (from transformers) (2019.12.20)\n",
            "Requirement already satisfied: sacremoses in /usr/local/lib/python3.7/dist-packages (from transformers) (0.0.46)\n",
            "Requirement already satisfied: filelock in /usr/local/lib/python3.7/dist-packages (from transformers) (3.3.2)\n",
            "Requirement already satisfied: huggingface-hub<1.0,>=0.1.0 in /usr/local/lib/python3.7/dist-packages (from transformers) (0.1.2)\n",
            "Requirement already satisfied: tqdm>=4.27 in /usr/local/lib/python3.7/dist-packages (from transformers) (4.62.3)\n",
            "Requirement already satisfied: importlib-metadata in /usr/local/lib/python3.7/dist-packages (from transformers) (4.8.1)\n",
            "Requirement already satisfied: packaging>=20.0 in /usr/local/lib/python3.7/dist-packages (from transformers) (21.2)\n",
            "Requirement already satisfied: tokenizers<0.11,>=0.10.1 in /usr/local/lib/python3.7/dist-packages (from transformers) (0.10.3)\n",
            "Requirement already satisfied: typing-extensions>=3.7.4.3 in /usr/local/lib/python3.7/dist-packages (from huggingface-hub<1.0,>=0.1.0->transformers) (3.10.0.2)\n",
            "Requirement already satisfied: pyparsing<3,>=2.0.2 in /usr/local/lib/python3.7/dist-packages (from packaging>=20.0->transformers) (2.4.7)\n",
            "Requirement already satisfied: zipp>=0.5 in /usr/local/lib/python3.7/dist-packages (from importlib-metadata->transformers) (3.6.0)\n",
            "Requirement already satisfied: certifi>=2017.4.17 in /usr/local/lib/python3.7/dist-packages (from requests->transformers) (2021.10.8)\n",
            "Requirement already satisfied: chardet<4,>=3.0.2 in /usr/local/lib/python3.7/dist-packages (from requests->transformers) (3.0.4)\n",
            "Requirement already satisfied: idna<3,>=2.5 in /usr/local/lib/python3.7/dist-packages (from requests->transformers) (2.10)\n",
            "Requirement already satisfied: urllib3!=1.25.0,!=1.25.1,<1.26,>=1.21.1 in /usr/local/lib/python3.7/dist-packages (from requests->transformers) (1.24.3)\n",
            "Requirement already satisfied: joblib in /usr/local/lib/python3.7/dist-packages (from sacremoses->transformers) (1.1.0)\n",
            "Requirement already satisfied: click in /usr/local/lib/python3.7/dist-packages (from sacremoses->transformers) (7.1.2)\n",
            "Requirement already satisfied: six in /usr/local/lib/python3.7/dist-packages (from sacremoses->transformers) (1.15.0)\n"
          ]
        }
      ]
    },
    {
      "cell_type": "code",
      "metadata": {
        "id": "_8HFCZ1NOVhQ"
      },
      "source": [
        "import torch\n",
        "import torch.nn as nn\n",
        "from sklearn.metrics import classification_report\n",
        "import transformers\n",
        "from transformers import AutoModel,RobertaTokenizerFast"
      ],
      "execution_count": 22,
      "outputs": []
    },
    {
      "cell_type": "code",
      "metadata": {
        "colab": {
          "base_uri": "https://localhost:8080/"
        },
        "id": "i11pgambOXvZ",
        "outputId": "24b82fb4-a6e5-44d9-eafb-edc1398ef523"
      },
      "source": [
        "# import BERT-base pretrained model\n",
        "bert = AutoModel.from_pretrained('roberta-base')\n",
        "\n",
        "# Load the BERT tokenizer\n",
        "tokenizer = RobertaTokenizerFast.from_pretrained('roberta-base')"
      ],
      "execution_count": 23,
      "outputs": [
        {
          "output_type": "stream",
          "name": "stderr",
          "text": [
            "Some weights of the model checkpoint at roberta-base were not used when initializing RobertaModel: ['lm_head.dense.weight', 'lm_head.layer_norm.bias', 'lm_head.dense.bias', 'lm_head.bias', 'lm_head.layer_norm.weight', 'lm_head.decoder.weight']\n",
            "- This IS expected if you are initializing RobertaModel from the checkpoint of a model trained on another task or with another architecture (e.g. initializing a BertForSequenceClassification model from a BertForPreTraining model).\n",
            "- This IS NOT expected if you are initializing RobertaModel from the checkpoint of a model that you expect to be exactly identical (initializing a BertForSequenceClassification model from a BertForSequenceClassification model).\n"
          ]
        }
      ]
    },
    {
      "cell_type": "code",
      "metadata": {
        "colab": {
          "base_uri": "https://localhost:8080/",
          "height": 283
        },
        "id": "2uZ1QJyTOZZ_",
        "outputId": "1c1c8a4c-724c-41eb-a499-56cd4eb01f19"
      },
      "source": [
        "seq_len = [len(i.split()) for i in train_text ]\n",
        "\n",
        "pd.Series(seq_len).hist(bins = 100)"
      ],
      "execution_count": 24,
      "outputs": [
        {
          "output_type": "execute_result",
          "data": {
            "text/plain": [
              "<matplotlib.axes._subplots.AxesSubplot at 0x7f455ee8c190>"
            ]
          },
          "metadata": {},
          "execution_count": 24
        },
        {
          "output_type": "display_data",
          "data": {
            "image/png": "[encoded data removed]",
            "text/plain": [
              "<Figure size 432x288 with 1 Axes>"
            ]
          },
          "metadata": {
            "needs_background": "light"
          }
        }
      ]
    },
    {
      "cell_type": "code",
      "metadata": {
        "id": "aEO4xz1qObEo"
      },
      "source": [
        "max_seq_len = 55"
      ],
      "execution_count": 25,
      "outputs": []
    },
    {
      "cell_type": "code",
      "metadata": {
        "colab": {
          "base_uri": "https://localhost:8080/"
        },
        "id": "Pi8ATrWLOchd",
        "outputId": "36004971-6ce3-4bef-dd01-97cda71090ae"
      },
      "source": [
        "# tokenize and encode sequences in the training set\n",
        "tokens_train = tokenizer.batch_encode_plus(\n",
        "    train_text,\n",
        "    max_length = max_seq_len,\n",
        "    pad_to_max_length=True,\n",
        "    truncation=True,\n",
        "    return_token_type_ids=False\n",
        ")\n",
        "\n",
        "# tokenize and encode sequences in the validation set\n",
        "tokens_val = tokenizer.batch_encode_plus(\n",
        "    val_text,\n",
        "    max_length = max_seq_len,\n",
        "    pad_to_max_length=True,\n",
        "    truncation=True,\n",
        "    return_token_type_ids=False\n",
        ")\n",
        "\n",
        "# tokenize and encode sequences in the test set\n",
        "tokens_test = tokenizer.batch_encode_plus(\n",
        "    test_text,\n",
        "    max_length = max_seq_len,\n",
        "    pad_to_max_length=True,\n",
        "    truncation=True,\n",
        "    return_token_type_ids=False\n",
        ")"
      ],
      "execution_count": 26,
      "outputs": [
        {
          "output_type": "stream",
          "name": "stderr",
          "text": [
            "/usr/local/lib/python3.7/dist-packages/transformers/tokenization_utils_base.py:2218: FutureWarning: The `pad_to_max_length` argument is deprecated and will be removed in a future version, use `padding=True` or `padding='longest'` to pad to the longest sequence in the batch, or use `padding='max_length'` to pad to a max length. In this case, you can give a specific length with `max_length` (e.g. `max_length=45`) or leave max_length to None to pad to the maximal input size of the model (e.g. 512 for Bert).\n",
            "  FutureWarning,\n"
          ]
        }
      ]
    },
    {
      "cell_type": "code",
      "metadata": {
        "id": "T_6YuUyjOe81"
      },
      "source": [
        "# for train set\n",
        "train_seq = torch.tensor(tokens_train['input_ids'])\n",
        "train_mask = torch.tensor(tokens_train['attention_mask'])\n",
        "train_y = torch.tensor(train_labels)\n",
        "\n",
        "# for validation set\n",
        "val_seq = torch.tensor(tokens_val['input_ids'])\n",
        "val_mask = torch.tensor(tokens_val['attention_mask'])\n",
        "val_y = torch.tensor(val_labels)\n",
        "\n",
        "# for test set\n",
        "test_seq = torch.tensor(tokens_test['input_ids'])\n",
        "test_mask = torch.tensor(tokens_test['attention_mask'])\n",
        "test_y = torch.tensor(test_labels)"
      ],
      "execution_count": 27,
      "outputs": []
    },
    {
      "cell_type": "code",
      "metadata": {
        "id": "Avtcios9Oha-"
      },
      "source": [
        "from torch.utils.data import TensorDataset, DataLoader, RandomSampler, SequentialSampler\n",
        "\n",
        "#define a batch size\n",
        "batch_size = 32\n",
        "\n",
        "# wrap tensors\n",
        "train_data = TensorDataset(train_seq, train_mask, train_y)\n",
        "\n",
        "# sampler for sampling the data during training\n",
        "train_sampler = RandomSampler(train_data)\n",
        "\n",
        "# dataLoader for train set\n",
        "train_dataloader = DataLoader(train_data, sampler=train_sampler, batch_size=batch_size)\n",
        "\n",
        "# wrap tensors\n",
        "val_data = TensorDataset(val_seq, val_mask, val_y)\n",
        "\n",
        "# sampler for sampling the data during training\n",
        "val_sampler = SequentialSampler(val_data)\n",
        "\n",
        "# dataLoader for validation set\n",
        "val_dataloader = DataLoader(val_data, sampler = val_sampler, batch_size=batch_size)"
      ],
      "execution_count": 28,
      "outputs": []
    },
    {
      "cell_type": "code",
      "metadata": {
        "id": "4z8sPjx_OjUj"
      },
      "source": [
        "# freeze all the parameters\n",
        "for param in bert.parameters():\n",
        "    param.requires_grad = False"
      ],
      "execution_count": 29,
      "outputs": []
    },
    {
      "cell_type": "code",
      "metadata": {
        "id": "qBcWjKgXOkuz"
      },
      "source": [
        "class BERT_Arch(nn.Module):\n",
        "\n",
        "    def __init__(self, bert):\n",
        "      \n",
        "      super(BERT_Arch, self).__init__()\n",
        "\n",
        "      self.bert = bert \n",
        "      \n",
        "      # relu activation function\n",
        "      self.relu =  nn.ReLU()\n",
        "\n",
        "      # BI-LSTM\n",
        "      self.Lstm = nn.LSTM(input_size=768,hidden_size=128,num_layers = 2,dropout = 0.3,bidirectional = True)\n",
        "      self.bn_256 = nn.BatchNorm1d(256)\n",
        "      # dense layer 1\n",
        "      self.fc1 = nn.Linear(256,64)\n",
        "      self.bn1 = nn.BatchNorm1d(64)\n",
        "      # dense layer 2 (Output layer)\n",
        "   \n",
        "      self.fc2 = nn.Linear(64,2)\n",
        "\n",
        "      #softmax activation function\n",
        "      self.softmax = nn.LogSoftmax(dim=1)\n",
        "      \n",
        "\n",
        "    #define the forward pass\n",
        "    def forward(self, sent_id, mask):\n",
        "\n",
        "      #pass the inputs to the model  \n",
        "      p = self.bert(sent_id, attention_mask=mask)\n",
        "\n",
        "      # lstm forward prop\n",
        "      x_lstm = self.Lstm(p[0])\n",
        "      x_lstm = x_lstm[0].sum(axis = 1)\n",
        "      x_lstm = self.bn_256(x_lstm)\n",
        "      x = self.relu(x_lstm)\n",
        "\n",
        "      #fully connected layer forward prop\n",
        "      x = self.fc1(x)\n",
        "      x = self.bn1(x)\n",
        "      x = self.relu(x)\n",
        "\n",
        "      # apply softmax activation\n",
        "      x = self.softmax(self.fc2(x))\n",
        "\n",
        "      return x"
      ],
      "execution_count": 30,
      "outputs": []
    },
    {
      "cell_type": "code",
      "metadata": {
        "id": "2G8QZkL_OnFJ"
      },
      "source": [
        "device = torch.device('cuda')"
      ],
      "execution_count": 31,
      "outputs": []
    },
    {
      "cell_type": "code",
      "metadata": {
        "id": "KIwYiahGOone"
      },
      "source": [
        "# pass the pre-trained BERT to our define architecture\n",
        "model = BERT_Arch(bert)\n",
        "#path=\"/content/gdrive/MyDrive/saved_weights_acc.pt\"\n",
        "#model.load_state_dict(torch.load(path))\n",
        "# push the model to GPU\n",
        "model = model.to(device)"
      ],
      "execution_count": 32,
      "outputs": []
    },
    {
      "cell_type": "code",
      "metadata": {
        "id": "2eCeYyWDOp9d"
      },
      "source": [
        "for i in train_dataloader:\n",
        "  break"
      ],
      "execution_count": 33,
      "outputs": []
    },
    {
      "cell_type": "code",
      "metadata": {
        "id": "htWYpMdHOriB"
      },
      "source": [
        "y =bert(i[0].to('cuda'),attention_mask=i[1].to('cuda'))"
      ],
      "execution_count": 34,
      "outputs": []
    },
    {
      "cell_type": "code",
      "metadata": {
        "id": "2sBqgnmyOtE9"
      },
      "source": [
        "j = y[0].sum(axis =1)"
      ],
      "execution_count": 35,
      "outputs": []
    },
    {
      "cell_type": "code",
      "metadata": {
        "colab": {
          "base_uri": "https://localhost:8080/"
        },
        "id": "66fMsoj8Ouia",
        "outputId": "5ca9e0bf-1690-4a31-ac11-46e7d5ee8a5b"
      },
      "source": [
        "j.shape"
      ],
      "execution_count": 36,
      "outputs": [
        {
          "output_type": "execute_result",
          "data": {
            "text/plain": [
              "torch.Size([32, 768])"
            ]
          },
          "metadata": {},
          "execution_count": 36
        }
      ]
    },
    {
      "cell_type": "code",
      "metadata": {
        "id": "zo5ehxQNOv5V"
      },
      "source": [
        "from transformers import AdamW\n",
        "\n",
        "# define the optimizer\n",
        "optimizer = AdamW(model.parameters(), lr = 4e-3)\n",
        "#optimizer = torch.optim.Adam(model.parameters(),lr = 0.05)\n",
        "\n",
        "cross_entropy = nn.CrossEntropyLoss()"
      ],
      "execution_count": 37,
      "outputs": []
    },
    {
      "cell_type": "code",
      "metadata": {
        "id": "CpDRYMPCOxWD"
      },
      "source": [
        "epochs = 10"
      ],
      "execution_count": 38,
      "outputs": []
    },
    {
      "cell_type": "code",
      "metadata": {
        "id": "2-3VKhA3Ozak"
      },
      "source": [
        "from sklearn.metrics import accuracy_score\n",
        "\n",
        "def accuracy(scores, targets):\n",
        "    y_prediction = []\n",
        "    for p in scores:\n",
        "\n",
        "        y_prediction.append(p.argmax().item())\n",
        "    y_true = np.array(targets.to('cpu'))\n",
        "\n",
        "    targets.to(device)\n",
        "    return accuracy_score(y_true, np.array(y_prediction))"
      ],
      "execution_count": 39,
      "outputs": []
    },
    {
      "cell_type": "code",
      "metadata": {
        "id": "NYItS0zZO0_k"
      },
      "source": [
        "# function to train the model\n",
        "def train():\n",
        "  \n",
        "  model.train()\n",
        "\n",
        "  total_loss, total_accuracy = 0, 0\n",
        "  epoch_acc = 0\n",
        "  \n",
        "  # empty list to save model predictions\n",
        "  total_preds=[]\n",
        "  \n",
        "  # iterate over batches\n",
        "  for step,batch in enumerate(train_dataloader):\n",
        "    \n",
        "    # progress update after every 50 batches.\n",
        "    if step % 750 == 0 and not step == 0:\n",
        "      print('  Batch {:>5,}  of  {:>5,}.'.format(step, len(train_dataloader)))\n",
        "\n",
        "    # push the batch to gpu\n",
        "    batch = [r.to(device) for r in batch]\n",
        " \n",
        "    sent_id, mask, labels = batch\n",
        "\n",
        "    # clear previously calculated gradients \n",
        "    model.zero_grad()        \n",
        "\n",
        "    # get model predictions for the current batch\n",
        "    preds = model(sent_id, mask)\n",
        "\n",
        "    # compute the loss between actual and predicted values\n",
        "    loss = cross_entropy(preds, labels)\n",
        "\n",
        "    # add on to the total loss\n",
        "    total_loss = total_loss + loss.item()\n",
        "\n",
        "    # backward pass to calculate the gradients\n",
        "    loss.backward()\n",
        "\n",
        "    # clip the the gradients to 1.0. It helps in preventing the exploding gradient problem\n",
        "    #torch.nn.utils.clip_grad_norm_(model.parameters(), 1.0)\n",
        "\n",
        "    # update parameters\n",
        "    optimizer.step()\n",
        "\n",
        "    # model predictions are stored on GPU. So, push it to CPU\n",
        "    preds=preds.detach().cpu().numpy()\n",
        "\n",
        "    #accuracy\n",
        "    epoch_acc = epoch_acc + accuracy(preds,labels)\n",
        "\n",
        "    # append the model predictions\n",
        "    total_preds.append(preds)\n",
        "\n",
        "  # compute the training loss of the epoch\n",
        "  avg_loss = total_loss / len(train_dataloader)\n",
        "\n",
        "  \n",
        "  # predictions are in the form of (no. of batches, size of batch, no. of classes).\n",
        "  # reshape the predictions in form of (number of samples, no. of classes)\n",
        "  total_preds  = np.concatenate(total_preds, axis=0)\n",
        "\n",
        "  #returns the loss and predictions\n",
        "  return avg_loss, total_preds , epoch_acc/len(train_dataloader)"
      ],
      "execution_count": 40,
      "outputs": []
    },
    {
      "cell_type": "code",
      "metadata": {
        "id": "0p237HfcO4qA"
      },
      "source": [
        "# function for evaluating the model\n",
        "def evaluate():\n",
        "  \n",
        "  print(\"\\nEvaluating...\")\n",
        "  \n",
        "  # deactivate dropout layers\n",
        "  model.eval()\n",
        "\n",
        "  total_loss, total_accuracy = 0, 0\n",
        "  epoch_acc = 0\n",
        "  \n",
        "  # empty list to save the model predictions\n",
        "  total_preds = []\n",
        "\n",
        "  # iterate over batches\n",
        "  for step,batch in enumerate(val_dataloader):\n",
        "    \n",
        "    # Progress update every 50 batches.\n",
        "    if step % 50 == 0 and not step == 0:\n",
        "      \n",
        "      # Calculate elapsed time in minutes.\n",
        "      #elapsed =(time.time() - t0)\n",
        "            \n",
        "      # Report progress.\n",
        "      print('  Batch {:>5,}  of  {:>5,}.'.format(step, len(val_dataloader)))\n",
        "\n",
        "    # push the batch to gpu\n",
        "    batch = [t.to(device) for t in batch]\n",
        "\n",
        "    sent_id, mask, labels = batch\n",
        "\n",
        "    # deactivate autograd\n",
        "    with torch.no_grad():\n",
        "      \n",
        "      # model predictions\n",
        "      preds = model(sent_id, mask)\n",
        "\n",
        "      # compute the validation loss between actual and predicted values\n",
        "      loss = cross_entropy(preds,labels)\n",
        "\n",
        "      total_loss = total_loss + loss.item()\n",
        "\n",
        "      preds = preds.detach().cpu().numpy()\n",
        "\n",
        "      epoch_acc = epoch_acc + accuracy(preds,labels)\n",
        "\n",
        "      total_preds.append(preds)\n",
        "\n",
        "  # compute the validation loss of the epoch\n",
        "  avg_loss = total_loss / len(val_dataloader) \n",
        "\n",
        "  # reshape the predictions in form of (number of samples, no. of classes)\n",
        "  total_preds  = np.concatenate(total_preds, axis=0)\n",
        "\n",
        "  return avg_loss, total_preds,epoch_acc/len(val_dataloader)"
      ],
      "execution_count": 41,
      "outputs": []
    },
    {
      "cell_type": "code",
      "metadata": {
        "colab": {
          "base_uri": "https://localhost:8080/"
        },
        "id": "6n5x2U8fO8wf",
        "outputId": "ba9f9b51-9174-4aab-9dfc-463752f2532c"
      },
      "source": [
        "# set initial loss to infinite\n",
        "prev_acc = 0\n",
        "best_valid_loss = float('inf')\n",
        "\n",
        "# empty lists to store training and validation loss of each epoch\n",
        "\n",
        "train_losses=[]\n",
        "valid_losses=[]\n",
        "accuracy_train = []\n",
        "accuracy_test = []\n",
        "\n",
        "\n",
        "import time\n",
        "#for each epoch\n",
        "for epoch in range(epochs):\n",
        "     \n",
        "    print('\\n Epoch {:} / {:}'.format(epoch + 1, epochs))\n",
        "    \n",
        "    start_time = time.time()\n",
        "    #train model\n",
        "    train_loss, train_predictions,train_acc = train()\n",
        "    \n",
        "    #evaluate model\n",
        "    valid_loss, test_predictions,test_acc = evaluate()\n",
        "    \n",
        "    print(f'\\ntime taken for epoch :{time.time()/60-start_time/60}')\n",
        "    #save the best model\n",
        "    if test_acc > prev_acc:\n",
        "        torch.save(model.state_dict(), '/content/drive/MyDrive/saved_weights_acc_last.pt')\n",
        "    prev_acc = test_acc\n",
        "\n",
        "    if valid_loss < best_valid_loss:\n",
        "        best_valid_loss = valid_loss\n",
        "        torch.save(model.state_dict(), '/content/drive/MyDrive/saved_weights_loss_last.pt')\n",
        "\n",
        "    # append training and validation loss\n",
        "    train_losses.append(train_loss)\n",
        "    valid_losses.append(valid_loss)\n",
        "    accuracy_train.append(train_acc)\n",
        "    accuracy_test.append(test_acc)\n",
        "    \n",
        "    print(f'\\nTraining Loss: {train_loss:.3f} || {train_acc:.3f}')\n",
        "    print(f'Validation Loss: {valid_loss:.3f} || {test_acc:.3f}')"
      ],
      "execution_count": 42,
      "outputs": [
        {
          "output_type": "stream",
          "name": "stdout",
          "text": [
            "\n",
            " Epoch 1 / 10\n",
            "  Batch   750  of  1,250.\n",
            "\n",
            "Evaluating...\n",
            "  Batch    50  of    157.\n",
            "  Batch   100  of    157.\n",
            "  Batch   150  of    157.\n",
            "\n",
            "time taken for epoch :5.515872165560722\n",
            "\n",
            "Training Loss: 0.479 || 0.772\n",
            "Validation Loss: 0.429 || 0.805\n",
            "\n",
            " Epoch 2 / 10\n",
            "  Batch   750  of  1,250.\n",
            "\n",
            "Evaluating...\n",
            "  Batch    50  of    157.\n",
            "  Batch   100  of    157.\n",
            "  Batch   150  of    157.\n",
            "\n",
            "time taken for epoch :5.497102797031403\n",
            "\n",
            "Training Loss: 0.431 || 0.804\n",
            "Validation Loss: 0.405 || 0.831\n",
            "\n",
            " Epoch 3 / 10\n",
            "  Batch   750  of  1,250.\n",
            "\n",
            "Evaluating...\n",
            "  Batch    50  of    157.\n",
            "  Batch   100  of    157.\n",
            "  Batch   150  of    157.\n",
            "\n",
            "time taken for epoch :5.471276171505451\n",
            "\n",
            "Training Loss: 0.414 || 0.812\n",
            "Validation Loss: 0.387 || 0.829\n",
            "\n",
            " Epoch 4 / 10\n",
            "  Batch   750  of  1,250.\n",
            "\n",
            "Evaluating...\n",
            "  Batch    50  of    157.\n",
            "  Batch   100  of    157.\n",
            "  Batch   150  of    157.\n",
            "\n",
            "time taken for epoch :5.521217279136181\n",
            "\n",
            "Training Loss: 0.408 || 0.814\n",
            "Validation Loss: 0.382 || 0.842\n",
            "\n",
            " Epoch 5 / 10\n",
            "  Batch   750  of  1,250.\n",
            "\n",
            "Evaluating...\n",
            "  Batch    50  of    157.\n",
            "  Batch   100  of    157.\n",
            "  Batch   150  of    157.\n",
            "\n",
            "time taken for epoch :5.4941022247076035\n",
            "\n",
            "Training Loss: 0.401 || 0.819\n",
            "Validation Loss: 0.363 || 0.842\n",
            "\n",
            " Epoch 6 / 10\n",
            "  Batch   750  of  1,250.\n",
            "\n",
            "Evaluating...\n",
            "  Batch    50  of    157.\n",
            "  Batch   100  of    157.\n",
            "  Batch   150  of    157.\n",
            "\n",
            "time taken for epoch :5.514237008988857\n",
            "\n",
            "Training Loss: 0.393 || 0.823\n",
            "Validation Loss: 0.367 || 0.840\n",
            "\n",
            " Epoch 7 / 10\n",
            "  Batch   750  of  1,250.\n",
            "\n",
            "Evaluating...\n",
            "  Batch    50  of    157.\n",
            "  Batch   100  of    157.\n",
            "  Batch   150  of    157.\n",
            "\n",
            "time taken for epoch :5.505317956209183\n",
            "\n",
            "Training Loss: 0.386 || 0.828\n",
            "Validation Loss: 0.358 || 0.844\n",
            "\n",
            " Epoch 8 / 10\n",
            "  Batch   750  of  1,250.\n",
            "\n",
            "Evaluating...\n",
            "  Batch    50  of    157.\n",
            "  Batch   100  of    157.\n",
            "  Batch   150  of    157.\n",
            "\n",
            "time taken for epoch :5.504865884780884\n",
            "\n",
            "Training Loss: 0.381 || 0.830\n",
            "Validation Loss: 0.352 || 0.851\n",
            "\n",
            " Epoch 9 / 10\n",
            "  Batch   750  of  1,250.\n",
            "\n",
            "Evaluating...\n",
            "  Batch    50  of    157.\n",
            "  Batch   100  of    157.\n",
            "  Batch   150  of    157.\n",
            "\n",
            "time taken for epoch :5.501988463103771\n",
            "\n",
            "Training Loss: 0.374 || 0.835\n",
            "Validation Loss: 0.359 || 0.844\n",
            "\n",
            " Epoch 10 / 10\n",
            "  Batch   750  of  1,250.\n",
            "\n",
            "Evaluating...\n",
            "  Batch    50  of    157.\n",
            "  Batch   100  of    157.\n",
            "  Batch   150  of    157.\n",
            "\n",
            "time taken for epoch :5.500498581677675\n",
            "\n",
            "Training Loss: 0.368 || 0.836\n",
            "Validation Loss: 0.350 || 0.848\n"
          ]
        }
      ]
    },
    {
      "cell_type": "code",
      "metadata": {
        "colab": {
          "base_uri": "https://localhost:8080/",
          "height": 283
        },
        "id": "Yo7D4zDXPAF_",
        "outputId": "6536ebaa-08da-4bb5-8bf0-cd1bae49e2a4"
      },
      "source": [
        "import matplotlib.pyplot as plt\n",
        "plt.plot(train_losses)\n",
        "plt.plot(valid_losses)"
      ],
      "execution_count": 43,
      "outputs": [
        {
          "output_type": "execute_result",
          "data": {
            "text/plain": [
              "[<matplotlib.lines.Line2D at 0x7f4558b37110>]"
            ]
          },
          "metadata": {},
          "execution_count": 43
        },
        {
          "output_type": "display_data",
          "data": {
            "image/png": "[encoded data removed]",
            "text/plain": [
              "<Figure size 432x288 with 1 Axes>"
            ]
          },
          "metadata": {
            "needs_background": "light"
          }
        }
      ]
    },
    {
      "cell_type": "code",
      "metadata": {
        "colab": {
          "base_uri": "https://localhost:8080/",
          "height": 283
        },
        "id": "MVnDt0xvPCPL",
        "outputId": "dd6b41d0-a202-4c0f-a828-1fe0c7fe052d"
      },
      "source": [
        "plt.plot(accuracy_train)\n",
        "plt.plot(accuracy_test)"
      ],
      "execution_count": 44,
      "outputs": [
        {
          "output_type": "execute_result",
          "data": {
            "text/plain": [
              "[<matplotlib.lines.Line2D at 0x7f45586abf10>]"
            ]
          },
          "metadata": {},
          "execution_count": 44
        },
        {
          "output_type": "display_data",
          "data": {
            "image/png": "[encoded data removed]",
            "text/plain": [
              "<Figure size 432x288 with 1 Axes>"
            ]
          },
          "metadata": {
            "needs_background": "light"
          }
        }
      ]
    },
    {
      "cell_type": "code",
      "metadata": {
        "id": "zVn5TPNzPEWb"
      },
      "source": [
        "test_data = TensorDataset(test_seq, test_mask, test_y)\n",
        "\n",
        "# sampler for sampling the data during training\n",
        "test_sampler = SequentialSampler(test_data)\n",
        "\n",
        "# dataLoader for validation set\n",
        "test_dataloader = DataLoader(test_data, sampler = test_sampler, batch_size=batch_size)"
      ],
      "execution_count": 45,
      "outputs": []
    },
    {
      "cell_type": "code",
      "metadata": {
        "id": "NJ4SMrQ-PKrL"
      },
      "source": [
        "def evaluate(test_dataloader):\n",
        "  \n",
        "  print(\"\\nEvaluating...\")\n",
        "  \n",
        "  # deactivate dropout layers\n",
        "  model.eval()\n",
        "\n",
        "  total_loss, total_accuracy = 0, 0\n",
        "  epoch_acc = 0\n",
        "  \n",
        "  # empty list to save the model predictions\n",
        "  total_preds = []\n",
        "\n",
        "  # iterate over batches\n",
        "  for step,batch in enumerate(test_dataloader):\n",
        "    \n",
        "    # Progress update every 50 batches.\n",
        "    if step % 100 == 0 and not step == 0:\n",
        "      \n",
        "      # Calculate elapsed time in minutes.\n",
        "      #elapsed =(time.time() - t0)\n",
        "            \n",
        "      # Report progress.\n",
        "      print('  Batch {:>5,}  of  {:>5,}.'.format(step, len(test_dataloader)))\n",
        "\n",
        "    # push the batch to gpu\n",
        "    batch = [t.to(device) for t in batch]\n",
        "\n",
        "    sent_id, mask, labels = batch\n",
        "\n",
        "    # deactivate autograd\n",
        "    with torch.no_grad():\n",
        "      \n",
        "      # model predictions\n",
        "      preds = model(sent_id, mask)\n",
        "\n",
        "      # compute the validation loss between actual and predicted values\n",
        "      loss = cross_entropy(preds,labels)\n",
        "\n",
        "      total_loss = total_loss + loss.item()\n",
        "\n",
        "      preds = preds.detach().cpu().numpy()\n",
        "\n",
        "      epoch_acc = epoch_acc + accuracy(preds,labels)\n",
        "      #print(epoch_acc)\n",
        "\n",
        "      total_preds.append(preds)\n",
        "\n",
        "  # compute the validation loss of the epoch\n",
        "  avg_loss = total_loss / len(test_dataloader) \n",
        "\n",
        "  # reshape the predictions in form of (number of samples, no. of classes)\n",
        "  total_preds  = np.concatenate(total_preds, axis=0)\n",
        "\n",
        "  return avg_loss, total_preds,epoch_acc/len(test_dataloader)"
      ],
      "execution_count": 46,
      "outputs": []
    },
    {
      "cell_type": "code",
      "metadata": {
        "colab": {
          "base_uri": "https://localhost:8080/"
        },
        "id": "UdLTR-lsPPyu",
        "outputId": "35e33631-1125-4305-ca4a-b518bb983491"
      },
      "source": [
        "test_preds = evaluate(test_dataloader)"
      ],
      "execution_count": 47,
      "outputs": [
        {
          "output_type": "stream",
          "name": "stdout",
          "text": [
            "\n",
            "Evaluating...\n",
            "  Batch   100  of    157.\n"
          ]
        }
      ]
    },
    {
      "cell_type": "code",
      "metadata": {
        "id": "4hx9mMbJRSB4"
      },
      "source": [
        "test_preds[2]"
      ],
      "execution_count": null,
      "outputs": []
    },
    {
      "cell_type": "code",
      "metadata": {
        "id": "IpFegRn7RfRU"
      },
      "source": [
        "def raw_data_tester(text):\n",
        "  raw_text = tokenizer.batch_encode_plus(\n",
        "    text,\n",
        "    max_length = max_seq_len,\n",
        "    pad_to_max_length=True,\n",
        "    truncation=True,\n",
        "    return_token_type_ids=False\n",
        "    )\n",
        "  sent = torch.tensor(raw_text['input_ids'])\n",
        "  mask = torch.tensor(raw_text['attention_mask'])\n",
        "  with torch.no_grad():\n",
        "    model.eval()\n",
        "    pred  = model(sent.to(device),mask.to(device))\n",
        "\n",
        "  return pred.argmax(1)"
      ],
      "execution_count": 50,
      "outputs": []
    },
    {
      "cell_type": "code",
      "metadata": {
        "id": "ybs_BlGZw0s8"
      },
      "source": [
        "import os\n",
        "import tweepy as tw\n",
        "import pandas as pd"
      ],
      "execution_count": 54,
      "outputs": []
    },
    {
      "cell_type": "code",
      "metadata": {
        "id": "pNdkHsL4w7mV"
      },
      "source": [
        "consumer_key= 'mBoYjtxttekt7nA3oa564nl4J'\n",
        "consumer_secret= 'UUl6zhaDsSnf3OYvLJsqGitR0nbl0cuzhFpDLoMF8L88dBlJFr'\n",
        "access_token= '1435952824043532295-E2sbl3E0QhOVNQetKmyJ1WpgIWmFIC'\n",
        "access_token_secret= 'vN9AkN7kuiGpwKyzv1rSTVWWqbzYYkMD2S9nUXF4rSZgO'"
      ],
      "execution_count": 55,
      "outputs": []
    },
    {
      "cell_type": "code",
      "metadata": {
        "id": "Pww3Rg8Uw9bX"
      },
      "source": [
        "auth = tw.OAuthHandler(consumer_key, consumer_secret)\n",
        "auth.set_access_token(access_token, access_token_secret)\n",
        "api = tw.API(auth, wait_on_rate_limit=True)"
      ],
      "execution_count": 56,
      "outputs": []
    },
    {
      "cell_type": "code",
      "metadata": {
        "id": "dVRzXDgKw_V0"
      },
      "source": [
        "\n",
        "search_words = \"#politics\""
      ],
      "execution_count": 57,
      "outputs": []
    },
    {
      "cell_type": "code",
      "metadata": {
        "id": "v93Q3tULxBR3"
      },
      "source": [
        "tweets = tw.Cursor(api.search,\n",
        "              q=search_words,\n",
        "              lang=\"en\",).items(100)"
      ],
      "execution_count": 63,
      "outputs": []
    },
    {
      "cell_type": "code",
      "metadata": {
        "id": "wQbBLFaJMA6y"
      },
      "source": [
        "df.to_csv(r'c:\\data\\pandas1.txt',header=None, index=None, sep=' ', mode='a')\n",
        "with open('/content/c:\\data\\pandas1.txt') as f:\n",
        "  text=f.read().splitlines()\n",
        "test_preds=raw_data_tester(text)\n",
        "print(test_preds)\n",
        "res=[]\n",
        "for i in test_preds:\n",
        "  res.append(i.item())\n",
        "print(res)"
      ],
      "execution_count": null,
      "outputs": []
    },
    {
      "cell_type": "code",
      "metadata": {
        "id": "otGLd_klMwOt"
      },
      "source": [
        "import matplotlib.pyplot as plt\n",
        "zeroes=res.count(0)\n",
        "ones=res.count(1)\n",
        "height=[zeroes,ones]\n",
        "left=[0,1]\n",
        "tick_label=[\"negative\", \"positive\"]\n",
        "plt.bar(left,height,tick_label=tick_label, width=0.8, color=['red','green'])"
      ],
      "execution_count": null,
      "outputs": []
    },
    {
      "cell_type": "code",
      "metadata": {
        "id": "QVYjWrg-OgVo"
      },
      "source": [
        "search_words = \"#health\"\n",
        "tweets = tw.Cursor(api.search,\n",
        "              q=search_words,\n",
        "              lang=\"en\",).items(100)\n",
        "val=[tweet.text for tweet in tweets]\n",
        "df = pd.DataFrame(val)\n",
        "df.head()\n",
        "df.columns = ['Tweets']\n",
        "df.head()\n",
        "df.to_csv(r'c:\\data\\pandas2.txt',header=None, index=None, sep=' ', mode='a')\n",
        "with open('/content/c:\\data\\pandas2.txt') as f:\n",
        "  text=f.read().splitlines()\n",
        "test_preds=raw_data_tester(text)\n",
        "print(test_preds)\n",
        "res=[]\n",
        "for i in test_preds:\n",
        "  res.append(i.item())\n",
        "print(res)\n",
        "import matplotlib.pyplot as plt\n",
        "zeroes=res.count(0)\n",
        "ones=res.count(1)\n",
        "height=[zeroes,ones]\n",
        "left=[0,1]\n",
        "tick_label=[\"negative\", \"positive\"]\n",
        "plt.bar(left,height,tick_label=tick_label, width=0.8, color=['red','green'])"
      ],
      "execution_count": null,
      "outputs": []
    },
    {
      "cell_type": "code",
      "metadata": {
        "id": "EFoph4VrOrK-"
      },
      "source": [
        "search_words = \"#globalwarming\"\n",
        "tweets = tw.Cursor(api.search,\n",
        "              q=search_words,\n",
        "              lang=\"en\",).items(100)\n",
        "val=[tweet.text for tweet in tweets]\n",
        "df = pd.DataFrame(val)\n",
        "df.head()\n",
        "df.columns = ['Tweets']\n",
        "df.head()\n",
        "df.to_csv(r'c:\\data\\pandas3.txt',header=None, index=None, sep=' ', mode='a')\n",
        "with open('/content/c:\\data\\pandas3.txt') as f:\n",
        "  text=f.read().splitlines()\n",
        "test_preds=raw_data_tester(text)\n",
        "print(test_preds)\n",
        "res=[]\n",
        "for i in test_preds:\n",
        "  res.append(i.item())\n",
        "print(res)\n",
        "import matplotlib.pyplot as plt\n",
        "zeroes=res.count(0)\n",
        "ones=res.count(1)\n",
        "height=[zeroes,ones]\n",
        "left=[0,1]\n",
        "tick_label=[\"negative\", \"positive\"]\n",
        "plt.bar(left,height,tick_label=tick_label, width=0.8, color=['red','green'])"
      ],
      "execution_count": null,
      "outputs": []
    },
    {
      "cell_type": "code",
      "metadata": {
        "id": "pz7r-kKzOxV0"
      },
      "source": [
        "search_words = \"#socialmedia\"\n",
        "tweets = tw.Cursor(api.search,\n",
        "              q=search_words,\n",
        "              lang=\"en\",).items(100)\n",
        "val=[tweet.text for tweet in tweets]\n",
        "df = pd.DataFrame(val)\n",
        "df.head()\n",
        "df.columns = ['Tweets']\n",
        "df.head()\n",
        "df.to_csv(r'c:\\data\\pandas1.txt',header=None, index=None, sep=' ', mode='a')\n",
        "with open('/content/c:\\data\\pandas1.txt') as f:\n",
        "  text=f.read().splitlines()\n",
        "test_preds=raw_data_tester(text)\n",
        "print(test_preds)\n",
        "res=[]\n",
        "for i in test_preds:\n",
        "  res.append(i.item())\n",
        "print(res)\n",
        "import matplotlib.pyplot as plt\n",
        "zeroes=res.count(0)\n",
        "ones=res.count(1)\n",
        "height=[zeroes,ones]\n",
        "left=[0,1]\n",
        "tick_label=[\"negative\", \"positive\"]\n",
        "plt.bar(left,height,tick_label=tick_label, width=0.8, color=['red','green'])"
      ],
      "execution_count": null,
      "outputs": []
    }
  ]
}